{
 "cells": [
  {
   "cell_type": "markdown",
   "metadata": {},
   "source": [
    "## Python: Collection Module \n",
    "\n",
    "#### Collection is a container data type \n",
    "- This module implements specialized container datatypes providing alternatives to Python’s general purpose built-in        containers, dict, list, set, and tuple.\n",
    "\n",
    "- Collections:\n",
    "    - Counter\n",
    "    - namedtuple\n",
    "    - OrderedList\n",
    "    - defaultdict\n",
    "    - deque "
   ]
  },
  {
   "cell_type": "code",
   "execution_count": 1,
   "metadata": {},
   "outputs": [],
   "source": [
    "# import counter \n",
    "from collections import Counter"
   ]
  },
  {
   "cell_type": "code",
   "execution_count": 16,
   "metadata": {},
   "outputs": [
    {
     "name": "stdout",
     "output_type": "stream",
     "text": [
      "Counter({'a': 7, 'b': 5, 'c': 4})\n",
      "<class 'collections.Counter'>\n",
      "Counter({'B': 5, 'A': 3, 'C': 2})\n",
      "Counter({'B': 5, 'A': 3, 'C': 2})\n",
      "Counter({'B': 5, 'A': 3, 'C': 2})\n",
      "dict_items([('a', 7), ('b', 5), ('c', 4)])\n",
      "dict_keys(['a', 'b', 'c'])\n",
      "dict_values([7, 5, 4])\n",
      "[('a', 7)]\n"
     ]
    }
   ],
   "source": [
    "# create a counter \n",
    "# method 1\n",
    "var = \"aaaaaaabbbbbcccc\"\n",
    "\n",
    "my_counter = Counter(var)\n",
    "print(my_counter)\n",
    "print(type(my_counter))\n",
    "\n",
    "# method 2\n",
    "# With sequence of items  \n",
    "print(Counter(['B','B','A','B','C','A','B',\n",
    "               'B','A','C']))\n",
    "\n",
    "# method 3\n",
    "# with dictionary \n",
    "print(Counter({'A':3, 'B':5, 'C':2}))\n",
    "\n",
    "# method 4\n",
    "# with keyword arguments \n",
    "print(Counter(A=3, B=5, C=2))"
   ]
  },
  {
   "cell_type": "code",
   "execution_count": 22,
   "metadata": {},
   "outputs": [
    {
     "name": "stdout",
     "output_type": "stream",
     "text": [
      "dict_items([('a', 7), ('b', 5), ('c', 4)])\n",
      "dict_keys(['a', 'b', 'c'])\n",
      "dict_values([7, 5, 4])\n",
      "[('a', 7)]\n",
      "('a', 7)\n",
      "a\n",
      "<itertools.chain object at 0x000001903327CD60>\n",
      "['a', 'a', 'a', 'a', 'a', 'a', 'a', 'b', 'b', 'b', 'b', 'b', 'c', 'c', 'c', 'c']\n"
     ]
    }
   ],
   "source": [
    "# counter methods\n",
    "print(my_counter.items())\n",
    "print(my_counter.keys())\n",
    "print(my_counter.values())\n",
    "\n",
    "# get most common \n",
    "print(my_counter.most_common(1))\n",
    "\n",
    "# get tuple of most common \n",
    "print(my_counter.most_common(1)[0])\n",
    "\n",
    "# get most common value \n",
    "print(my_counter.most_common(1)[0][0])\n",
    "\n",
    "# get elements \n",
    "print(my_counter.elements()) # convert this to list\n",
    "print(list(my_counter.elements()))"
   ]
  },
  {
   "cell_type": "markdown",
   "metadata": {},
   "source": [
    "### namedtuple "
   ]
  },
  {
   "cell_type": "code",
   "execution_count": 25,
   "metadata": {},
   "outputs": [],
   "source": [
    "# impot namedtuple \n",
    "from collections import namedtuple"
   ]
  },
  {
   "cell_type": "code",
   "execution_count": 28,
   "metadata": {},
   "outputs": [
    {
     "name": "stdout",
     "output_type": "stream",
     "text": [
      "<class '__main__.Point'>\n",
      "Point(x=23, y=90)\n",
      "23 90\n"
     ]
    }
   ],
   "source": [
    "# create namedtuple\n",
    "Point = namedtuple(\"Point\", 'x,y')\n",
    "print(Point)\n",
    "\n",
    "# add\n",
    "pt = Point(23, 90)\n",
    "print(pt)\n",
    "\n",
    "# accessing only the value\n",
    "print(pt.x, pt.y)"
   ]
  },
  {
   "cell_type": "markdown",
   "metadata": {},
   "source": [
    "#### OrderDict \n",
    "\n",
    "- An OrderedDict is also a sub-class of dictionary but unlike dictionary, it remembers the order in which the keys were inserted. "
   ]
  },
  {
   "cell_type": "code",
   "execution_count": 29,
   "metadata": {},
   "outputs": [],
   "source": [
    "# import OrderedDict\n",
    "from collections import OrderedDict"
   ]
  },
  {
   "cell_type": "code",
   "execution_count": 33,
   "metadata": {},
   "outputs": [
    {
     "name": "stdout",
     "output_type": "stream",
     "text": [
      "This is a Dict:\n",
      "\n",
      "a 1\n",
      "b 2\n",
      "c 3\n",
      "d 4\n",
      "\n",
      "This is an Ordered Dict:\n",
      "\n",
      "a 1\n",
      "b 2\n",
      "c 3\n",
      "d 4\n"
     ]
    }
   ],
   "source": [
    "# create a OrderedDict\n",
    "print(\"This is a Dict:\\n\") \n",
    "d = {} \n",
    "d['a'] = 1\n",
    "d['b'] = 2\n",
    "d['c'] = 3\n",
    "d['d'] = 4\n",
    "  \n",
    "for key, value in d.items(): \n",
    "    print(key, value) \n",
    "  \n",
    "print(\"\\nThis is an Ordered Dict:\\n\") \n",
    "od = OrderedDict() \n",
    "od['a'] = 1\n",
    "od['b'] = 2\n",
    "od['c'] = 3\n",
    "od['d'] = 4\n",
    "  \n",
    "for key, value in od.items(): \n",
    "    print(key, value) "
   ]
  },
  {
   "cell_type": "code",
   "execution_count": 34,
   "metadata": {},
   "outputs": [
    {
     "name": "stdout",
     "output_type": "stream",
     "text": [
      "Before Deleting\n",
      "a 1\n",
      "b 2\n",
      "c 3\n",
      "d 4\n",
      "\n",
      "After re-inserting\n",
      "b 2\n",
      "c 3\n",
      "d 4\n",
      "a 1\n"
     ]
    }
   ],
   "source": [
    "# A Python program to demonstrate working\n",
    "# of OrderedDict \n",
    "\n",
    "from collections import OrderedDict \n",
    "\n",
    "\n",
    "od = OrderedDict() \n",
    "od['a'] = 1\n",
    "od['b'] = 2\n",
    "od['c'] = 3\n",
    "od['d'] = 4\n",
    "  \n",
    "print('Before Deleting')\n",
    "for key, value in od.items(): \n",
    "    print(key, value) \n",
    "    \n",
    "# deleting element\n",
    "od.pop('a')\n",
    "\n",
    "# Re-inserting the same\n",
    "od['a'] = 1\n",
    "\n",
    "print('\\nAfter re-inserting')\n",
    "for key, value in od.items(): \n",
    "    print(key, value)"
   ]
  },
  {
   "cell_type": "markdown",
   "metadata": {},
   "source": [
    "#### defaultDict\n",
    "- A DefaultDict is also a sub-class to dictionary. It is used to provide some default values for the key that does not exist and never raises a KeyError."
   ]
  },
  {
   "cell_type": "code",
   "execution_count": 39,
   "metadata": {},
   "outputs": [
    {
     "name": "stdout",
     "output_type": "stream",
     "text": [
      "defaultdict(<class 'int'>, {'a': 25, 'b': 0})\n",
      "defaultdict(<class 'int'>, {1: 2, 2.3: 1, 3: 1, 4: 2, 2: 2})\n"
     ]
    }
   ],
   "source": [
    "# Python program to demonstrate defaultdict \n",
    "from collections import defaultdict \n",
    "\n",
    "dd = defaultdict(int)\n",
    "\n",
    "dd['a'] = 25\n",
    "dd['b'] # by default it will assign 0 as we have declear the defaultdict as int\n",
    "print(dd)\n",
    "   \n",
    "# Defining the dict \n",
    "d = defaultdict(int) \n",
    "   \n",
    "L = [1, 2.3, 3, 4, 2, 4, 1, 2] \n",
    "   \n",
    "# Iterate through the list \n",
    "# for keeping the count \n",
    "for i in L: \n",
    "    # The default value is 0 \n",
    "    # so there is no need to  \n",
    "    # enter the key first \n",
    "    d[i] += 1\n",
    "       \n",
    "print(d) "
   ]
  },
  {
   "cell_type": "markdown",
   "metadata": {},
   "source": [
    "#### deque\n",
    "- Deque (Doubly Ended Queue) is the optimized list for quicker append and pop operations from both sides of the container. It provides O(1) time complexity for append and pop operations as compared to list with O(n) time complexity."
   ]
  },
  {
   "cell_type": "code",
   "execution_count": 40,
   "metadata": {},
   "outputs": [],
   "source": [
    "# import deque \n",
    "from collections import deque"
   ]
  },
  {
   "cell_type": "code",
   "execution_count": 44,
   "metadata": {},
   "outputs": [
    {
     "name": "stdout",
     "output_type": "stream",
     "text": [
      "deque([2, 4, 5, 6])\n",
      "deque(['name', 'age', 'DOB'])\n"
     ]
    }
   ],
   "source": [
    "# creating a deque\n",
    "dq = deque([2,4,5,6])\n",
    "print(dq)\n",
    "\n",
    "# Declaring deque\n",
    "dq = deque(['name','age','DOB']) \n",
    "print(dq)"
   ]
  },
  {
   "cell_type": "code",
   "execution_count": 46,
   "metadata": {},
   "outputs": [
    {
     "name": "stdout",
     "output_type": "stream",
     "text": [
      "The deque after appending at right is : \n",
      "deque([1, 2, 3, 4])\n",
      "The deque after appending at left is : \n",
      "deque([6, 1, 2, 3, 4])\n"
     ]
    }
   ],
   "source": [
    "#Inserting Elements\n",
    "\"\"\" Elements in deque can be inserted from both ends. To insert the elements from right append() method \n",
    "    is used and to insert the elements from the left appendleft() method is used\"\"\"\n",
    "\n",
    "# initializing deque \n",
    "de = deque([1,2,3]) \n",
    "  \n",
    "# using append() to insert element at right end  \n",
    "# inserts 4 at the end of deque \n",
    "de.append(4) \n",
    "  \n",
    "# printing modified deque \n",
    "print (\"The deque after appending at right is : \") \n",
    "print (de) \n",
    "  \n",
    "# using appendleft() to insert element at right end  \n",
    "# inserts 6 at the beginning of deque \n",
    "de.appendleft(6) \n",
    "  \n",
    "# printing modified deque \n",
    "print (\"The deque after appending at left is : \") \n",
    "print (de) "
   ]
  }
 ],
 "metadata": {
  "kernelspec": {
   "display_name": "geogee",
   "language": "python",
   "name": "python3"
  },
  "language_info": {
   "codemirror_mode": {
    "name": "ipython",
    "version": 3
   },
   "file_extension": ".py",
   "mimetype": "text/x-python",
   "name": "python",
   "nbconvert_exporter": "python",
   "pygments_lexer": "ipython3",
   "version": "3.12.3"
  }
 },
 "nbformat": 4,
 "nbformat_minor": 2
}
