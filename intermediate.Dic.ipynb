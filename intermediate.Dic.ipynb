{
 "cells": [
  {
   "cell_type": "markdown",
   "metadata": {},
   "source": [
    "## Python: Dictionary - Intermidate to Advance Level\n",
    "\n",
    "- Dictionary\n",
    "    - Key-Value pairs,\n",
    "    - Unordered\n",
    "    - Mutable"
   ]
  },
  {
   "cell_type": "code",
   "execution_count": 4,
   "metadata": {},
   "outputs": [
    {
     "name": "stdout",
     "output_type": "stream",
     "text": [
      "{'name': 'Mallick', 'age': 25, 'working': True}\n",
      "<class 'dict'>\n",
      "{'name': 'Mallick', 'age': 25, 'working': True}\n",
      "<class 'dict'>\n"
     ]
    }
   ],
   "source": [
    "# create dic \n",
    "# method 1 \n",
    "my_dic = {\n",
    "    \"name\" : \"Mallick\",\n",
    "    \"age\" : 25,\n",
    "    \"working\" : True\n",
    "}\n",
    "print(my_dic)\n",
    "print(type(my_dic))\n",
    "\n",
    "# method 2 \n",
    "my_dic = dict(name=\"Mallick\", age=25, working=True)\n",
    "print(my_dic)\n",
    "print(type(my_dic))"
   ]
  },
  {
   "cell_type": "code",
   "execution_count": 6,
   "metadata": {},
   "outputs": [
    {
     "name": "stdout",
     "output_type": "stream",
     "text": [
      "Mallick\n",
      "25\n"
     ]
    }
   ],
   "source": [
    "# Access dict elements\n",
    "my_dic = {\n",
    "    \"name\" : \"Mallick\",\n",
    "    \"age\" : 25,\n",
    "    \"working\" : True\n",
    "}\n",
    "\n",
    "print(my_dic['name'])\n",
    "print(my_dic['age'])"
   ]
  },
  {
   "cell_type": "code",
   "execution_count": 8,
   "metadata": {},
   "outputs": [
    {
     "ename": "KeyError",
     "evalue": "'lastname'",
     "output_type": "error",
     "traceback": [
      "\u001b[1;31m---------------------------------------------------------------------------\u001b[0m",
      "\u001b[1;31mKeyError\u001b[0m                                  Traceback (most recent call last)",
      "Cell \u001b[1;32mIn[8], line 7\u001b[0m\n\u001b[0;32m      1\u001b[0m \u001b[38;5;66;03m# Access dict element that dose not exist\u001b[39;00m\n\u001b[0;32m      2\u001b[0m my_dic \u001b[38;5;241m=\u001b[39m {\n\u001b[0;32m      3\u001b[0m     \u001b[38;5;124m\"\u001b[39m\u001b[38;5;124mname\u001b[39m\u001b[38;5;124m\"\u001b[39m : \u001b[38;5;124m\"\u001b[39m\u001b[38;5;124mMallick\u001b[39m\u001b[38;5;124m\"\u001b[39m,\n\u001b[0;32m      4\u001b[0m     \u001b[38;5;124m\"\u001b[39m\u001b[38;5;124mage\u001b[39m\u001b[38;5;124m\"\u001b[39m : \u001b[38;5;241m25\u001b[39m,\n\u001b[0;32m      5\u001b[0m     \u001b[38;5;124m\"\u001b[39m\u001b[38;5;124mworking\u001b[39m\u001b[38;5;124m\"\u001b[39m : \u001b[38;5;28;01mTrue\u001b[39;00m\n\u001b[0;32m      6\u001b[0m }\n\u001b[1;32m----> 7\u001b[0m \u001b[38;5;28mprint\u001b[39m(\u001b[43mmy_dic\u001b[49m\u001b[43m[\u001b[49m\u001b[38;5;124;43m'\u001b[39;49m\u001b[38;5;124;43mlastname\u001b[39;49m\u001b[38;5;124;43m'\u001b[39;49m\u001b[43m]\u001b[49m)\n",
      "\u001b[1;31mKeyError\u001b[0m: 'lastname'"
     ]
    }
   ],
   "source": [
    "# Access dict element that dose not exist\n",
    "my_dic = {\n",
    "    \"name\" : \"Mallick\",\n",
    "    \"age\" : 25,\n",
    "    \"working\" : True\n",
    "}\n",
    "print(my_dic['lastname'])  # it will through an Error"
   ]
  },
  {
   "cell_type": "code",
   "execution_count": 9,
   "metadata": {},
   "outputs": [
    {
     "name": "stdout",
     "output_type": "stream",
     "text": [
      "{'name': 'Mallick', 'age': 25, 'working': True}\n",
      "{'name': 'Mallick', 'age': 25, 'working': True, 'email': 'mallickhasem@gmail.com'}\n"
     ]
    }
   ],
   "source": [
    "# creating new key value paris in old dict\n",
    "my_dic = {\n",
    "    \"name\" : \"Mallick\",\n",
    "    \"age\" : 25,\n",
    "    \"working\" : True\n",
    "}\n",
    "print(my_dic)\n",
    "\n",
    "my_dic['email'] = \"mallickhasem@gmail.com\"\n",
    "print(my_dic)"
   ]
  },
  {
   "cell_type": "code",
   "execution_count": 11,
   "metadata": {},
   "outputs": [
    {
     "name": "stdout",
     "output_type": "stream",
     "text": [
      "{'name': 'Mallick', 'age': 25, 'working': True}\n",
      "{'name': 'Mallick', 'working': True}\n"
     ]
    }
   ],
   "source": [
    "# delete dict item\n",
    "\n",
    "# method 1\n",
    "my_dic = {\n",
    "    \"name\" : \"Mallick\",\n",
    "    \"age\" : 25,\n",
    "    \"working\" : True\n",
    "}\n",
    "print(my_dic)\n",
    "\n",
    "del my_dic['age']\n",
    "print(my_dic)"
   ]
  },
  {
   "cell_type": "code",
   "execution_count": 13,
   "metadata": {},
   "outputs": [
    {
     "name": "stdout",
     "output_type": "stream",
     "text": [
      "{'name': 'Mallick', 'age': 25, 'working': True}\n",
      "{'age': 25, 'working': True}\n"
     ]
    }
   ],
   "source": [
    "# delete dict item\n",
    "\n",
    "# method 2\n",
    "my_dic = {\n",
    "    \"name\" : \"Mallick\",\n",
    "    \"age\" : 25,\n",
    "    \"working\" : True\n",
    "}\n",
    "print(my_dic)\n",
    "\n",
    "my_dic.pop('name')\n",
    "print(my_dic)"
   ]
  },
  {
   "cell_type": "code",
   "execution_count": 17,
   "metadata": {},
   "outputs": [
    {
     "name": "stdout",
     "output_type": "stream",
     "text": [
      "{'name': 'Mallick', 'age': 25, 'working': True}\n",
      "{'name': 'Mallick', 'age': 25}\n"
     ]
    }
   ],
   "source": [
    "# delete last element of dict \n",
    "\n",
    "# method 2\n",
    "my_dic = {\n",
    "    \"name\" : \"Mallick\",\n",
    "    \"age\" : 25,\n",
    "    \"working\" : True\n",
    "}\n",
    "print(my_dic)\n",
    "\n",
    "my_dic.popitem()\n",
    "print(my_dic)"
   ]
  },
  {
   "cell_type": "code",
   "execution_count": 21,
   "metadata": {},
   "outputs": [
    {
     "name": "stdout",
     "output_type": "stream",
     "text": [
      "{'name': 'Mallick', 'age': 25, 'working': True}\n",
      "True\n",
      "False\n"
     ]
    }
   ],
   "source": [
    "# find element in dict\n",
    "\n",
    "# method 1\n",
    "my_dic = {\n",
    "    \"name\" : \"Mallick\",\n",
    "    \"age\" : 25,\n",
    "    \"working\" : True\n",
    "}\n",
    "print(my_dic)\n",
    "\n",
    "if 'name' in my_dic:\n",
    "    print(True)\n",
    "else:\n",
    "    print(False)\n",
    "\n",
    "if 'firstname' in my_dic:\n",
    "    print(True)\n",
    "else:\n",
    "    print(False)"
   ]
  },
  {
   "cell_type": "code",
   "execution_count": 24,
   "metadata": {},
   "outputs": [
    {
     "name": "stdout",
     "output_type": "stream",
     "text": [
      "{'name': 'Mallick', 'age': 25, 'working': True}\n",
      "Mallick\n",
      "No LASTNAME found\n"
     ]
    }
   ],
   "source": [
    "# find element in dict\n",
    "\n",
    "# method 2\n",
    "my_dic = {\n",
    "    \"name\" : \"Mallick\",\n",
    "    \"age\" : 25,\n",
    "    \"working\" : True\n",
    "}\n",
    "print(my_dic)\n",
    "\n",
    "if 'name' in my_dic:\n",
    "    print(my_dic['name'])\n",
    "else:\n",
    "    print(False)\n",
    "\n",
    "if 'firstname' in my_dic:\n",
    "    print(my_dic['lastname'])\n",
    "else:\n",
    "    print(\"No LASTNAME found\")\n",
    "    "
   ]
  },
  {
   "cell_type": "code",
   "execution_count": 26,
   "metadata": {},
   "outputs": [
    {
     "name": "stdout",
     "output_type": "stream",
     "text": [
      "{'name': 'Mallick', 'age': 25, 'working': True}\n"
     ]
    }
   ],
   "source": [
    "# find element in dict\n",
    "\n",
    "# method 3 (** using TryExcep **)\n",
    "my_dic = {\n",
    "    \"name\" : \"Mallick\",\n",
    "    \"age\" : 25,\n",
    "    \"working\" : True\n",
    "}\n",
    "print(my_dic)\n",
    "\n",
    "try:\n",
    "    my_dic['name']\n",
    "except:\n",
    "    print('No name')    "
   ]
  },
  {
   "cell_type": "code",
   "execution_count": 30,
   "metadata": {},
   "outputs": [
    {
     "name": "stdout",
     "output_type": "stream",
     "text": [
      "name\n",
      "age\n",
      "working\n",
      "name\n",
      "age\n",
      "working\n",
      "name\n",
      "age\n",
      "working\n"
     ]
    }
   ],
   "source": [
    "# get dict keys\n",
    "my_dic = {\n",
    "    \"name\" : \"Mallick\",\n",
    "    \"age\" : 25,\n",
    "    \"working\" : True\n",
    "}\n",
    "\n",
    "for key in my_dic:\n",
    "    print(key)\n",
    "\n",
    "for ky in my_dic:\n",
    "    print(ky)\n",
    "\n",
    "for i in my_dic.keys():\n",
    "    print(i)"
   ]
  },
  {
   "cell_type": "code",
   "execution_count": 32,
   "metadata": {},
   "outputs": [
    {
     "name": "stdout",
     "output_type": "stream",
     "text": [
      "Mallick\n",
      "25\n",
      "True\n"
     ]
    }
   ],
   "source": [
    "# get values\n",
    "my_dic = {\n",
    "    \"name\" : \"Mallick\",\n",
    "    \"age\" : 25,\n",
    "    \"working\" : True\n",
    "}\n",
    "\n",
    "for val in my_dic.values():\n",
    "    print(val)"
   ]
  },
  {
   "cell_type": "code",
   "execution_count": 34,
   "metadata": {},
   "outputs": [
    {
     "name": "stdout",
     "output_type": "stream",
     "text": [
      "name  :  Mallick\n",
      "age  :  25\n",
      "working  :  True\n"
     ]
    }
   ],
   "source": [
    "# get key values\n",
    "my_dic = {\n",
    "    \"name\" : \"Mallick\",\n",
    "    \"age\" : 25,\n",
    "    \"working\" : True\n",
    "}\n",
    "\n",
    "for key, val in my_dic.items():\n",
    "    print(key, \" : \", val)"
   ]
  },
  {
   "cell_type": "code",
   "execution_count": 37,
   "metadata": {},
   "outputs": [
    {
     "name": "stdout",
     "output_type": "stream",
     "text": [
      "{'name': 'Mallick', 'age': 25, 'working': True}\n",
      "{'name': 'Mallick', 'age': 25, 'working': True}\n",
      "{'name': 'Mallick', 'age': 25, 'working': True, 'email': 'mallickhasem@gmail.com'}\n",
      "{'name': 'Mallick', 'age': 25, 'working': True, 'loggedin': False}\n",
      "{'name': 'Mallick', 'age': 25, 'working': True, 'email': 'mallickhasem@gmail.com'}\n"
     ]
    }
   ],
   "source": [
    "# copy dict\n",
    "# method 1\n",
    "my_dic = {\n",
    "    \"name\" : \"Mallick\",\n",
    "    \"age\" : 25,\n",
    "    \"working\" : True\n",
    "}\n",
    "print(my_dic)\n",
    "\n",
    "copy_dic = my_dic.copy()\n",
    "print(copy_dic)\n",
    "\n",
    "my_dic['email'] = \"mallickhasem@gmail.com\"\n",
    "print(my_dic)\n",
    "\n",
    "copy_dic['loggedin'] = False\n",
    "print(copy_dic)\n",
    "\n",
    "print(my_dic)\n"
   ]
  },
  {
   "cell_type": "code",
   "execution_count": 38,
   "metadata": {},
   "outputs": [
    {
     "name": "stdout",
     "output_type": "stream",
     "text": [
      "{'name': 'Mallick', 'age': 25, 'working': True}\n"
     ]
    }
   ],
   "source": [
    "# copy dic \n",
    "# method 2\n",
    "my_dic = {\n",
    "    \"name\" : \"Mallick\",\n",
    "    \"age\" : 25,\n",
    "    \"working\" : True\n",
    "}\n",
    "\n",
    "copy_dic = dict(my_dic)\n",
    "print(copy_dic)"
   ]
  },
  {
   "cell_type": "code",
   "execution_count": null,
   "metadata": {},
   "outputs": [],
   "source": []
  }
 ],
 "metadata": {
  "kernelspec": {
   "display_name": "geogee",
   "language": "python",
   "name": "python3"
  },
  "language_info": {
   "codemirror_mode": {
    "name": "ipython",
    "version": 3
   },
   "file_extension": ".py",
   "mimetype": "text/x-python",
   "name": "python",
   "nbconvert_exporter": "python",
   "pygments_lexer": "ipython3",
   "version": "3.12.3"
  }
 },
 "nbformat": 4,
 "nbformat_minor": 2
}
