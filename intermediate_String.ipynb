{
 "cells": [
  {
   "cell_type": "markdown",
   "metadata": {},
   "source": [
    "## Python: Sring - Intermediate Level\n",
    "\n",
    "- String:\n",
    "    - Ordered\n",
    "    - Immutable \n",
    "    - Text representation "
   ]
  },
  {
   "cell_type": "code",
   "execution_count": 7,
   "metadata": {},
   "outputs": [
    {
     "name": "stdout",
     "output_type": "stream",
     "text": [
      "Hello World\n",
      "I am a developer\n",
      "I\"m a programmer\n",
      "I'm a software engineer\n",
      "this is \n",
      "                typciaally used for \n",
      "                multiline string\n",
      "this is \n",
      "typciaally used for \n",
      "multiline string\n"
     ]
    }
   ],
   "source": [
    "# create a string\n",
    "my_string = \"Hello World\"\n",
    "print(my_string)\n",
    "\n",
    "my_string = 'I am a developer'\n",
    "print(my_string)\n",
    "\n",
    "my_string = 'I\"m a programmer'\n",
    "print(my_string)\n",
    "\n",
    "my_string = \"I'm a software engineer\"\n",
    "print(my_string)\n",
    "\n",
    "my_string = \"\"\"this is \n",
    "                typciaally used for \n",
    "                multiline string\"\"\"\n",
    "print(my_string)\n",
    "\n",
    "my_string = \"\"\"this is \n",
    "typciaally used for \n",
    "multiline string\"\"\"\n",
    "print(my_string)"
   ]
  },
  {
   "cell_type": "code",
   "execution_count": 9,
   "metadata": {},
   "outputs": [
    {
     "name": "stdout",
     "output_type": "stream",
     "text": [
      "H\n",
      "d\n"
     ]
    }
   ],
   "source": [
    "# access character \n",
    "my_string = \"Hello World\"\n",
    "print(my_string[0])\n",
    "print(my_string[-1])"
   ]
  },
  {
   "cell_type": "code",
   "execution_count": 10,
   "metadata": {},
   "outputs": [
    {
     "ename": "TypeError",
     "evalue": "'str' object does not support item assignment",
     "output_type": "error",
     "traceback": [
      "\u001b[1;31m---------------------------------------------------------------------------\u001b[0m",
      "\u001b[1;31mTypeError\u001b[0m                                 Traceback (most recent call last)",
      "Cell \u001b[1;32mIn[10], line 2\u001b[0m\n\u001b[0;32m      1\u001b[0m my_string \u001b[38;5;241m=\u001b[39m \u001b[38;5;124m\"\u001b[39m\u001b[38;5;124mHello World\u001b[39m\u001b[38;5;124m\"\u001b[39m\n\u001b[1;32m----> 2\u001b[0m \u001b[43mmy_string\u001b[49m\u001b[43m[\u001b[49m\u001b[38;5;241;43m0\u001b[39;49m\u001b[43m]\u001b[49m \u001b[38;5;241m=\u001b[39m \u001b[38;5;124m'\u001b[39m\u001b[38;5;124mb\u001b[39m\u001b[38;5;124m'\u001b[39m\n\u001b[0;32m      3\u001b[0m \u001b[38;5;28mprint\u001b[39m(my_string)\n",
      "\u001b[1;31mTypeError\u001b[0m: 'str' object does not support item assignment"
     ]
    }
   ],
   "source": [
    "# item assignment \n",
    "my_string = \"Hello World\"\n",
    "my_string[0] = 'b'\n",
    "print(my_string)"
   ]
  },
  {
   "cell_type": "code",
   "execution_count": 18,
   "metadata": {},
   "outputs": [
    {
     "name": "stdout",
     "output_type": "stream",
     "text": [
      "Hello World\n",
      "Hello\n",
      "World\n",
      "World\n",
      "Hello World\n",
      "HloWrd\n",
      "dlroW olleH\n"
     ]
    }
   ],
   "source": [
    "# sub-string\n",
    "my_string = \"Hello World\"\n",
    "print(my_string)\n",
    "\n",
    "# starting to N'th index\n",
    "sub_str = my_string[0:5]\n",
    "print(sub_str)\n",
    "\n",
    "# N'th index to end of the string\n",
    "# method one\n",
    "sub_str = my_string[6:]\n",
    "print(sub_str)\n",
    "\n",
    "# method two \n",
    "sub_str = my_string[6:len(my_string)]\n",
    "print(sub_str)\n",
    "\n",
    "# accessing complete string\n",
    "print(my_string[:])\n",
    "\n",
    "# alternative element of a string\n",
    "alter_str = my_string[::2]\n",
    "print(alter_str)\n",
    "\n",
    "# string reverseal \n",
    "print(my_string[::-1])"
   ]
  },
  {
   "cell_type": "code",
   "execution_count": 24,
   "metadata": {},
   "outputs": [
    {
     "name": "stdout",
     "output_type": "stream",
     "text": [
      "Good morning, Mallick\n"
     ]
    }
   ],
   "source": [
    "# string concat\n",
    "greet = \"Good morning\"\n",
    "name = \"Mallick\"\n",
    "\n",
    "sen = greet + name\n",
    "print(greet +\", \"+ name)"
   ]
  },
  {
   "cell_type": "code",
   "execution_count": 25,
   "metadata": {},
   "outputs": [
    {
     "name": "stdout",
     "output_type": "stream",
     "text": [
      "H\n",
      "e\n",
      "l\n",
      "l\n",
      "o\n",
      " \n",
      "W\n",
      "o\n",
      "r\n",
      "l\n",
      "d\n"
     ]
    }
   ],
   "source": [
    "# iterate over a string\n",
    "my_string = \"Hello World\"\n",
    "\n",
    "for i in my_string:\n",
    "    print(i)"
   ]
  },
  {
   "cell_type": "code",
   "execution_count": 27,
   "metadata": {},
   "outputs": [
    {
     "name": "stdout",
     "output_type": "stream",
     "text": [
      "True\n",
      "False\n"
     ]
    }
   ],
   "source": [
    "# find element in a sgtring\n",
    "my_string = \"Hello World\"\n",
    "\n",
    "if \"W\" in my_string:\n",
    "    print(True)\n",
    "else:\n",
    "    print(False)\n",
    "\n",
    "if \"Wwww\" in my_string:\n",
    "    print(True)\n",
    "else:\n",
    "    print(False)"
   ]
  },
  {
   "cell_type": "code",
   "execution_count": 32,
   "metadata": {},
   "outputs": [
    {
     "name": "stdout",
     "output_type": "stream",
     "text": [
      "       Hello World     \n",
      "Hello World\n",
      "       Hello World     \n",
      "Hello World\n"
     ]
    }
   ],
   "source": [
    "# trim a string\n",
    "my_string = \"       Hello World     \"\n",
    "print(my_string)\n",
    "\n",
    "trimed_str = my_string.strip() # return a new string \n",
    "print(trimed_str)\n",
    "print(my_string)\n",
    "\n",
    "# trim the original string\n",
    "my_string = my_string.strip() # reassining the var\n",
    "print(my_string)"
   ]
  },
  {
   "cell_type": "code",
   "execution_count": 37,
   "metadata": {},
   "outputs": [
    {
     "name": "stdout",
     "output_type": "stream",
     "text": [
      "hello world\n",
      "HELLO WORLD\n",
      "Hello world\n"
     ]
    }
   ],
   "source": [
    "# lowercase, uppercase, & capitalize the string\n",
    "my_string = \"Hello WoRld\"\n",
    "\n",
    "print(my_string.lower())\n",
    "print(my_string.upper())\n",
    "print(my_string.capitalize())"
   ]
  },
  {
   "cell_type": "code",
   "execution_count": 40,
   "metadata": {},
   "outputs": [
    {
     "name": "stdout",
     "output_type": "stream",
     "text": [
      "True\n",
      "True\n",
      "True\n",
      "False\n"
     ]
    }
   ],
   "source": [
    "# string strat with and ends with\n",
    "my_string = \"Hello World\"\n",
    "\n",
    "print(my_string.startswith('Hello'))\n",
    "print(my_string.endswith(\"ld\"))\n",
    "print(my_string.startswith(\"H\"))\n",
    "\n",
    "print(my_string.startswith(\"asldf\"))"
   ]
  },
  {
   "cell_type": "code",
   "execution_count": 43,
   "metadata": {},
   "outputs": [
    {
     "name": "stdout",
     "output_type": "stream",
     "text": [
      "0\n",
      "4\n",
      "-1\n"
     ]
    }
   ],
   "source": [
    "# find index of a charcter or substring withinn the wting \n",
    "my_string = \"Hello World\"\n",
    "\n",
    "print(my_string.find(\"Hello\"))\n",
    "print(my_string.find(\"o\"))\n",
    "\n",
    "print(my_string.find(\"asdf\")) # return -1 incase the sub-string is not found"
   ]
  },
  {
   "cell_type": "code",
   "execution_count": 49,
   "metadata": {},
   "outputs": [
    {
     "name": "stdout",
     "output_type": "stream",
     "text": [
      "2\n",
      "3\n",
      "1\n",
      "0\n"
     ]
    }
   ],
   "source": [
    "# count occurance \n",
    "my_string = \"Hello World\"\n",
    "\n",
    "print(my_string.count('o'))\n",
    "print(my_string.count('l'))\n",
    "print(my_string.count(\"World\")) \n",
    "\n",
    "print(my_string.count(\"asdf\")) # return 0 incase no occurances"
   ]
  },
  {
   "cell_type": "code",
   "execution_count": 53,
   "metadata": {},
   "outputs": [
    {
     "name": "stdout",
     "output_type": "stream",
     "text": [
      "Hello Universe\n",
      "Hello World\n"
     ]
    }
   ],
   "source": [
    "# replace something in string\n",
    "my_string = \"Hello World\"\n",
    "\n",
    "str_repalce = my_string.replace(\"World\", \"Universe\") # it wont change the original string\n",
    "print(str_repalce)\n",
    "print(my_string)"
   ]
  },
  {
   "cell_type": "code",
   "execution_count": 60,
   "metadata": {},
   "outputs": [
    {
     "name": "stdout",
     "output_type": "stream",
     "text": [
      "Hello World hello universe\n",
      "['Hello', 'World', 'hello', 'universe']\n",
      "['I', 'am', 'Hasem', 'Mallick']\n"
     ]
    }
   ],
   "source": [
    "# sting to list\n",
    "my_string = \"Hello World hello universe\"\n",
    "print(my_string)\n",
    "\n",
    "# str to list based on space \n",
    "str_to_list = my_string.split(\" \")\n",
    "print(str_to_list) \n",
    "\n",
    "# str to list based on the comma\n",
    "my_string = \"I,am,Hasem,Mallick\"\n",
    "str_to_list = my_string.split(\",\")\n",
    "print(str_to_list)\n",
    "\n"
   ]
  },
  {
   "cell_type": "code",
   "execution_count": 63,
   "metadata": {},
   "outputs": [
    {
     "name": "stdout",
     "output_type": "stream",
     "text": [
      "HelloWorldhellouniverse\n",
      "Hello World hello universe\n"
     ]
    }
   ],
   "source": [
    "# list to string \n",
    "my_list = ['Hello', 'World', 'hello', 'universe']\n",
    "\n",
    "list_to_string = \"\".join(my_list) # no space between the list element\n",
    "print(list_to_string)\n",
    "\n",
    "list_to_string = \" \".join(my_list) # space between the list element\n",
    "print(list_to_string)"
   ]
  },
  {
   "cell_type": "code",
   "execution_count": 74,
   "metadata": {},
   "outputs": [
    {
     "name": "stdout",
     "output_type": "stream",
     "text": [
      "0.24125370004912838\n",
      "0.000929799978621304\n"
     ]
    }
   ],
   "source": [
    "from timeit import default_timer as timer\n",
    "# list to string \n",
    "my_list = [\"a\"] * 100000\n",
    "# print(my_list)\n",
    "\n",
    "# list to string using loop\n",
    "# bad code \n",
    "start = timer()\n",
    "my_string = \"\" \n",
    "for x in my_list:\n",
    "    my_string += x\n",
    "# print(my_string)\n",
    "end = timer()\n",
    "print(end - start)\n",
    "\n",
    "start = timer()\n",
    "# good code \n",
    "my_string = \"\".join(my_list)\n",
    "# print(my_string)\n",
    "end = timer()\n",
    "print(end - start)"
   ]
  },
  {
   "cell_type": "markdown",
   "metadata": {},
   "source": [
    "### String formatting\n",
    "\n",
    "- there are few methods of string formatting \n",
    "    - %\n",
    "    - .format()\n",
    "    - f-srings"
   ]
  },
  {
   "cell_type": "code",
   "execution_count": 82,
   "metadata": {},
   "outputs": [
    {
     "name": "stdout",
     "output_type": "stream",
     "text": [
      "I am Mallick\n",
      "I am 25 year old\n",
      "My CGPS is 8.230000\n",
      "My CGPS is 8.23\n",
      "I am Mallick\n",
      "I am 25 year old\n",
      "My CGPS is 8.23\n",
      "I am Mallick\n",
      "I am 25 year old\n",
      "My CGPS is 8.23\n"
     ]
    }
   ],
   "source": [
    "# formatting a string\n",
    "# old method one \n",
    "name = \"Mallick\"\n",
    "age = 25\n",
    "cgps = 8.23\n",
    "\n",
    "my_string = \"I am %s\" %name  # %s is the place holder of a variable (%s is for string)\n",
    "print(my_string)\n",
    "\n",
    "my_string = \"I am %d year old\" %age # %d is for integer value\n",
    "print(my_string) \n",
    "\n",
    "my_string = \"My CGPS is %f\" %cgps \n",
    "print(my_string)\n",
    "\n",
    "my_string = \"My CGPS is %.2f\" %cgps  # %.2f limit the decimel value to 2 digits\n",
    "print(my_string)\n",
    "\n",
    "# old method two \n",
    "name = \"Mallick\"\n",
    "age = 25\n",
    "cgps = 8.23\n",
    "\n",
    "my_string = \"I am {}\".format(name)\n",
    "print(my_string)\n",
    "\n",
    "my_string = \"I am {} year old\".format(age)\n",
    "print(my_string) \n",
    "\n",
    "my_string = \"My CGPS is {}\" .format(cgps) \n",
    "print(my_string)\n",
    "\n",
    "my_string = \"My CGPS is {:.2f}\" .format(cgps) \n",
    "\n",
    "# new method \n",
    "name = \"Mallick\"\n",
    "age = 25\n",
    "cgps = 8.23\n",
    "\n",
    "my_string = f\"I am {name}\"\n",
    "print(my_string)\n",
    "\n",
    "my_string = f\"I am {age} year old\"\n",
    "print(my_string) \n",
    "\n",
    "my_string = f\"My CGPS is {cgps}\"\n",
    "print(my_string)\n",
    "\n",
    "my_string = f\"My CGPS is {cgps}\""
   ]
  }
 ],
 "metadata": {
  "kernelspec": {
   "display_name": "geogee",
   "language": "python",
   "name": "python3"
  },
  "language_info": {
   "codemirror_mode": {
    "name": "ipython",
    "version": 3
   },
   "file_extension": ".py",
   "mimetype": "text/x-python",
   "name": "python",
   "nbconvert_exporter": "python",
   "pygments_lexer": "ipython3",
   "version": "3.12.3"
  }
 },
 "nbformat": 4,
 "nbformat_minor": 2
}
