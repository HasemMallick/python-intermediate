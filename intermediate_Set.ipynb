{
 "cells": [
  {
   "cell_type": "markdown",
   "metadata": {},
   "source": [
    "## Python: Set - Intermediate Level\n",
    "\n",
    "- Sets:\n",
    "    - Unordered\n",
    "    - Mutable \n",
    "    - No Duplicates"
   ]
  },
  {
   "cell_type": "code",
   "execution_count": 4,
   "metadata": {},
   "outputs": [
    {
     "name": "stdout",
     "output_type": "stream",
     "text": [
      "{1, 2, 3, 4}\n",
      "<class 'set'>\n",
      "{1, 2, 3, 4, 5, 'Mallick'}\n",
      "<class 'set'>\n"
     ]
    }
   ],
   "source": [
    "# create a set\n",
    "# method 1 \n",
    "my_set = {1,2,3,4}\n",
    "print(my_set)\n",
    "print(type(my_set))\n",
    "\n",
    "# method 2\n",
    "my_set = set({1,2,3,4,5, \"Mallick\"})\n",
    "print(my_set)\n",
    "print(type(my_set))"
   ]
  },
  {
   "cell_type": "code",
   "execution_count": 5,
   "metadata": {},
   "outputs": [
    {
     "name": "stdout",
     "output_type": "stream",
     "text": [
      "{'l', 'c', 'm', 'i', 'k', 'M', ' ', 'a', 'e', 's', 'H'}\n"
     ]
    }
   ],
   "source": [
    "my_set = set(\"Hasem Mallick\")\n",
    "print(my_set)"
   ]
  },
  {
   "cell_type": "code",
   "execution_count": 13,
   "metadata": {},
   "outputs": [
    {
     "name": "stdout",
     "output_type": "stream",
     "text": [
      "{25, 100, 14}\n",
      "{25, 14}\n",
      "{25}\n"
     ]
    }
   ],
   "source": [
    "# initilize an empty set and fill with data\n",
    "my_set = set()\n",
    "\n",
    "my_set.add(25)\n",
    "my_set.add(14)\n",
    "my_set.add(100)\n",
    "\n",
    "print(my_set)\n",
    "\n",
    "my_set.remove(100) # if element is not avaliable in the set it will through an Error\n",
    "print(my_set)\n",
    "\n",
    "my_set.discard(14)\n",
    "print(my_set)"
   ]
  },
  {
   "cell_type": "code",
   "execution_count": 19,
   "metadata": {},
   "outputs": [
    {
     "name": "stdout",
     "output_type": "stream",
     "text": [
      "{1, 2, 3, 4, 5, 6}\n",
      "1\n",
      "{2, 3, 4, 5, 6}\n",
      "set()\n"
     ]
    }
   ],
   "source": [
    "# clear a set \n",
    "my_set = set({1,2,3,4,5,6})\n",
    "print(my_set)\n",
    "\n",
    "print(my_set.pop()) # pop() method returns the value being removed from the set and print the set \n",
    "print(my_set)\n",
    "\n",
    "# clear() empty the set \n",
    "my_set.clear()\n",
    "print(my_set)"
   ]
  },
  {
   "cell_type": "code",
   "execution_count": 21,
   "metadata": {},
   "outputs": [
    {
     "name": "stdout",
     "output_type": "stream",
     "text": [
      "1\n",
      "3\n",
      "4\n",
      "5\n",
      "6\n",
      "7\n"
     ]
    }
   ],
   "source": [
    "# loop through the set\n",
    "my_set = {1,3,4,5,6,7}\n",
    "\n",
    "for el in my_set:\n",
    "    print(el)"
   ]
  },
  {
   "cell_type": "code",
   "execution_count": 24,
   "metadata": {},
   "outputs": [
    {
     "name": "stdout",
     "output_type": "stream",
     "text": [
      "False\n",
      "True\n"
     ]
    }
   ],
   "source": [
    "# check an element in the set \n",
    "my_set = {1,2,4,5,6,7}\n",
    "\n",
    "if 3 in my_set:\n",
    "    print(True)\n",
    "else:\n",
    "    print(False)\n",
    "\n",
    "if 2 in my_set:\n",
    "    print(True)\n",
    "else:\n",
    "    print(False)"
   ]
  },
  {
   "cell_type": "code",
   "execution_count": 28,
   "metadata": {},
   "outputs": [
    {
     "name": "stdout",
     "output_type": "stream",
     "text": [
      "{0, 1, 2, 3, 4, 5, 6, 7, 8, 9}\n",
      "set()\n",
      "{1, 3, 5, 7}\n"
     ]
    }
   ],
   "source": [
    "# intersection and union in the set\n",
    "odds = {1,3,5,7,9}\n",
    "evens = {0,2,4,6,8}\n",
    "primes = {1,3,5,7,11}\n",
    "\n",
    "# union combine two sets without duplicates\n",
    "union = odds.union(evens)\n",
    "print(union)\n",
    "\n",
    "# intersection only the numbers which is common in both the sets \n",
    "intersection = odds.intersection(evens)\n",
    "print(intersection) # no common numbers in odds and evens set \n",
    "\n",
    "intersection = odds.intersection(primes)\n",
    "print(intersection) # {1, 3, 5, 7} is common in the odds, and primes numbers"
   ]
  },
  {
   "cell_type": "code",
   "execution_count": 38,
   "metadata": {},
   "outputs": [
    {
     "name": "stdout",
     "output_type": "stream",
     "text": [
      "{1, 2, 3, 4, 5, 10, 12}\n",
      "{1, 2, 3, 4, 5, 6, 7, 8, 9, 45, 24}\n",
      "{10, 12}\n",
      "{6, 7, 8, 9, 10, 12, 45, 24}\n"
     ]
    }
   ],
   "source": [
    "# difference method of set\n",
    "setA = {1,2,3,4,5,10,12}\n",
    "print(setA)\n",
    "\n",
    "setB = {1,2,3,4,5,6,7,8,9,24,45} \n",
    "print(setB)\n",
    "\n",
    "diff = setA.difference(setB) # it will return only the set value that do not exist in the setB\n",
    "print(diff)\n",
    "\n",
    "sym_diff = setA.symmetric_difference(setB) # it will return only the set value that do not exist in the setB\n",
    "print(sym_diff)"
   ]
  },
  {
   "cell_type": "code",
   "execution_count": 39,
   "metadata": {},
   "outputs": [
    {
     "name": "stdout",
     "output_type": "stream",
     "text": [
      "{1, 2, 3, 4, 5, 6, 7, 8, 9, 10}\n"
     ]
    }
   ],
   "source": [
    "# Update a set\n",
    "setA = {1,2,3,4,5}\n",
    "setB = {2,6,7,8,9,10}\n",
    "\n",
    "setA.update(setB)\n",
    "print(setA)"
   ]
  },
  {
   "cell_type": "code",
   "execution_count": 40,
   "metadata": {},
   "outputs": [
    {
     "name": "stdout",
     "output_type": "stream",
     "text": [
      "{2}\n"
     ]
    }
   ],
   "source": [
    "# Intersection Update a set\n",
    "setA = {1,2,3,4,5}\n",
    "setB = {2,6,7,8,9,10}\n",
    "\n",
    "setA.intersection_update(setB)\n",
    "print(setA)"
   ]
  },
  {
   "cell_type": "code",
   "execution_count": 43,
   "metadata": {},
   "outputs": [
    {
     "name": "stdout",
     "output_type": "stream",
     "text": [
      "{1, 3, 4, 5}\n"
     ]
    }
   ],
   "source": [
    "# Difference Update a set\n",
    "setA = {1,2,3,4,5}\n",
    "setB = {2,6,7,8,9,10}\n",
    "\n",
    "setA.difference_update(setB)\n",
    "print(setA)"
   ]
  },
  {
   "cell_type": "code",
   "execution_count": 52,
   "metadata": {},
   "outputs": [
    {
     "name": "stdout",
     "output_type": "stream",
     "text": [
      "True\n",
      "False\n",
      "False\n",
      "True\n"
     ]
    }
   ],
   "source": [
    "# subset and superset \n",
    "setA = {1,2,3}\n",
    "setB = {1,2,3,2,6,7,8,9,10}\n",
    "\n",
    "# subset\n",
    "sub_set = setA.issubset(setB)\n",
    "print(sub_set)\n",
    "\n",
    "sub_set = setB.issubset(setA)\n",
    "print(sub_set)\n",
    "\n",
    "# superset\n",
    "sup_set = setA.issuperset(setB)\n",
    "print(sup_set)\n",
    "\n",
    "sup_set = setB.issuperset(setA)\n",
    "print(sup_set)"
   ]
  },
  {
   "cell_type": "code",
   "execution_count": 57,
   "metadata": {},
   "outputs": [
    {
     "name": "stdout",
     "output_type": "stream",
     "text": [
      "{1, 2, 3, 4, 5, 6}\n",
      "{1, 2, 3, 4, 5, 6}\n",
      "{1, 2, 3, 4, 5, 6, 2145212}\n",
      "{1, 2, 3, 4, 5, 6}\n"
     ]
    }
   ],
   "source": [
    "# copy of a set \n",
    "my_set = set({1,2,3,4,5,6})\n",
    "print(my_set)\n",
    "\n",
    "# copy_set = my_set # it will change the original set\n",
    "# print(copy_set)\n",
    "\n",
    "# my_set.add(2510)\n",
    "# print(my_set)\n",
    "# print(copy_set)\n",
    "\n",
    "copy_set = set(my_set) # this will copy the set \n",
    "print(copy_set)\n",
    "\n",
    "my_set.add(2145212)\n",
    "print(my_set)\n",
    "print(copy_set)"
   ]
  },
  {
   "cell_type": "markdown",
   "metadata": {},
   "source": [
    "### Frozen set (immutable veriosn of a set)"
   ]
  },
  {
   "cell_type": "code",
   "execution_count": 63,
   "metadata": {},
   "outputs": [
    {
     "name": "stdout",
     "output_type": "stream",
     "text": [
      "frozenset({1, 3, 5, 6})\n"
     ]
    }
   ],
   "source": [
    "forz_set = frozenset([1,3,5,6,6])\n",
    "print(forz_set)\n",
    "\n",
    "# forz_set.add(254) # add and remove etc.. pmethod will not work \n",
    "# print(forz_set)\n",
    "\n",
    "# union, iintersection etc.. method will work "
   ]
  },
  {
   "cell_type": "code",
   "execution_count": null,
   "metadata": {},
   "outputs": [],
   "source": []
  }
 ],
 "metadata": {
  "kernelspec": {
   "display_name": "geogee",
   "language": "python",
   "name": "python3"
  },
  "language_info": {
   "codemirror_mode": {
    "name": "ipython",
    "version": 3
   },
   "file_extension": ".py",
   "mimetype": "text/x-python",
   "name": "python",
   "nbconvert_exporter": "python",
   "pygments_lexer": "ipython3",
   "version": "3.12.3"
  }
 },
 "nbformat": 4,
 "nbformat_minor": 2
}
