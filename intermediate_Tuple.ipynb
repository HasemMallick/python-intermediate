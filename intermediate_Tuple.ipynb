{
 "cells": [
  {
   "cell_type": "markdown",
   "metadata": {},
   "source": [
    "## Python: Tuple - Intemidate Level\n",
    "\n",
    "- Tuple \n",
    "    - Rodered\n",
    "    - immutable\n",
    "    - allows duplicate elements \n",
    "\n",
    "Tuple can not be change after its creation"
   ]
  },
  {
   "cell_type": "code",
   "execution_count": 36,
   "metadata": {},
   "outputs": [
    {
     "name": "stdout",
     "output_type": "stream",
     "text": [
      "('Mallick', 25, True)\n",
      "<class 'tuple'>\n",
      "(['Malick', 25],)\n",
      "<class 'tuple'>\n",
      "('Mallick', 25, 'Kolkata')\n",
      "<class 'tuple'>\n",
      "('Mallick', 25, True)\n",
      "<class 'tuple'>\n",
      "('Mallick',)\n",
      "<class 'tuple'>\n",
      "('Mallick',)\n",
      "<class 'tuple'>\n"
     ]
    }
   ],
   "source": [
    "# create a tuple\n",
    "\n",
    "# method 1\n",
    "my_tuple = (\"Mallick\", 25, True)\n",
    "print(my_tuple)\n",
    "print(type(my_tuple))\n",
    "\n",
    "# method 2\n",
    "my_tuple = [\"Malick\", 25],\n",
    "print(my_tuple)\n",
    "print(type(my_tuple))\n",
    "\n",
    "# method 3\n",
    "my_tuple = tuple([\"Mallick\", 25, \"Kolkata\"]) # tuple function takes only one arugment\n",
    "print(my_tuple)\n",
    "print(type(my_tuple))\n",
    "\n",
    "# method 4\n",
    "my_tuple = \"Mallick\", 25, True\n",
    "print(my_tuple)\n",
    "print(type(my_tuple))\n",
    "\n",
    "# method 5\n",
    "my_tuple = (\"Mallick\",)\n",
    "print(my_tuple)\n",
    "print(type(my_tuple))\n",
    "\n",
    "# method 6\n",
    "my_tuple = \"Mallick\",\n",
    "print(my_tuple)\n",
    "print(type(my_tuple))"
   ]
  },
  {
   "cell_type": "code",
   "execution_count": 12,
   "metadata": {},
   "outputs": [
    {
     "name": "stdout",
     "output_type": "stream",
     "text": [
      "Mallick\n"
     ]
    }
   ],
   "source": [
    "# accessing tuple element using index\n",
    "my_tuple = (\"Mallick\", 25, True)\n",
    "\n",
    "print(my_tuple[0])"
   ]
  },
  {
   "cell_type": "code",
   "execution_count": 14,
   "metadata": {},
   "outputs": [
    {
     "ename": "TypeError",
     "evalue": "'tuple' object does not support item assignment",
     "output_type": "error",
     "traceback": [
      "\u001b[1;31m---------------------------------------------------------------------------\u001b[0m",
      "\u001b[1;31mTypeError\u001b[0m                                 Traceback (most recent call last)",
      "Cell \u001b[1;32mIn[14], line 2\u001b[0m\n\u001b[0;32m      1\u001b[0m \u001b[38;5;66;03m# Tuple is immutable\u001b[39;00m\n\u001b[1;32m----> 2\u001b[0m \u001b[43mmy_tuple\u001b[49m\u001b[43m[\u001b[49m\u001b[38;5;241;43m0\u001b[39;49m\u001b[43m]\u001b[49m \u001b[38;5;241m=\u001b[39m \u001b[38;5;124m\"\u001b[39m\u001b[38;5;124mAhsan\u001b[39m\u001b[38;5;124m\"\u001b[39m\n\u001b[0;32m      3\u001b[0m \u001b[38;5;28mprint\u001b[39m(my_tuple)\n",
      "\u001b[1;31mTypeError\u001b[0m: 'tuple' object does not support item assignment"
     ]
    }
   ],
   "source": [
    "# Tuple is immutable\n",
    "my_tuple[0] = \"Ahsan\"\n",
    "print(my_tuple)"
   ]
  },
  {
   "cell_type": "code",
   "execution_count": 16,
   "metadata": {},
   "outputs": [
    {
     "name": "stdout",
     "output_type": "stream",
     "text": [
      "Mallick\n",
      "25\n",
      "True\n"
     ]
    }
   ],
   "source": [
    "# Iterate over tuple\n",
    "my_tuple = tuple([\"Mallick\", 25, True])\n",
    "\n",
    "for el in my_tuple:\n",
    "    print(el)"
   ]
  },
  {
   "cell_type": "code",
   "execution_count": 20,
   "metadata": {},
   "outputs": [
    {
     "name": "stdout",
     "output_type": "stream",
     "text": [
      "True\n",
      "False\n"
     ]
    }
   ],
   "source": [
    "# find element in tuple\n",
    "my_tuple = tuple([\"Mallick\", 25, True])\n",
    "\n",
    "if \"Mallick\" in my_tuple:\n",
    "    print(True)\n",
    "else:\n",
    "    print(False)\n",
    "\n",
    "if \"Hasem\" in my_tuple:\n",
    "    print(True)\n",
    "else:\n",
    "    print(False)"
   ]
  },
  {
   "cell_type": "markdown",
   "metadata": {},
   "source": [
    "### Tuple Methods"
   ]
  },
  {
   "cell_type": "code",
   "execution_count": 21,
   "metadata": {},
   "outputs": [
    {
     "name": "stdout",
     "output_type": "stream",
     "text": [
      "3\n"
     ]
    }
   ],
   "source": [
    "# length of tuple\n",
    "my_tuple = tuple([\"Mallick\", 25, True])\n",
    "\n",
    "print(len(my_tuple))"
   ]
  },
  {
   "cell_type": "code",
   "execution_count": 25,
   "metadata": {},
   "outputs": [
    {
     "name": "stdout",
     "output_type": "stream",
     "text": [
      "1\n",
      "2\n",
      "4\n"
     ]
    }
   ],
   "source": [
    "# count of tuple element \n",
    "my_tuple = (1,2,3,4,1,2,2,2,4,6,8,9)\n",
    "\n",
    "print(my_tuple.count(9))\n",
    "print(my_tuple.count(4))\n",
    "print(my_tuple.count(2))"
   ]
  },
  {
   "cell_type": "code",
   "execution_count": 30,
   "metadata": {},
   "outputs": [
    {
     "name": "stdout",
     "output_type": "stream",
     "text": [
      "11\n",
      "1\n"
     ]
    }
   ],
   "source": [
    "# element of first index\n",
    "my_tuple = (1,2,3,4,1,2,2,2,4,6,8,9)\n",
    "\n",
    "print(my_tuple.index(9))\n",
    "print(my_tuple.index(2))\n",
    "# print(my_tuple.index(12)) # if element is not avaliable"
   ]
  },
  {
   "cell_type": "code",
   "execution_count": 34,
   "metadata": {},
   "outputs": [
    {
     "name": "stdout",
     "output_type": "stream",
     "text": [
      "[1, 2, 3, 4, 1, 2, 2, 2, 4, 6, 8, 9]\n",
      "<class 'list'>\n",
      "(1, 2, 3, 4, 1, 2, 2, 2, 4, 6, 8, 9)\n",
      "(1, 2, 3, 4, 1, 2, 2, 2, 4, 6, 8, 9)\n",
      "<class 'tuple'>\n"
     ]
    }
   ],
   "source": [
    "# tuple to list \n",
    "my_tuple = (1,2,3,4,1,2,2,2,4,6,8,9)\n",
    "\n",
    "my_list = list(my_tuple)\n",
    "print(my_list)\n",
    "print(type(my_list))\n",
    "\n",
    "print(my_tuple)\n",
    "\n",
    "# list to tuple \n",
    "my_tuple = tuple(my_list)\n",
    "print(my_tuple)\n",
    "print(type(my_tuple))"
   ]
  },
  {
   "cell_type": "markdown",
   "metadata": {},
   "source": [
    "=====================\n"
   ]
  },
  {
   "cell_type": "markdown",
   "metadata": {},
   "source": [
    "### Tuple - Slicing work same as List"
   ]
  },
  {
   "cell_type": "markdown",
   "metadata": {},
   "source": [
    "================="
   ]
  },
  {
   "cell_type": "markdown",
   "metadata": {},
   "source": [
    "Tuple Unpacking"
   ]
  },
  {
   "cell_type": "code",
   "execution_count": 39,
   "metadata": {},
   "outputs": [
    {
     "name": "stdout",
     "output_type": "stream",
     "text": [
      "('Mallick', 25, True)\n",
      "Mallick\n",
      "25\n",
      "True\n"
     ]
    }
   ],
   "source": [
    "# Unpacking of tuple\n",
    "my_tuple = \"Mallick\", 25, True\n",
    "print(my_tuple)\n",
    "\n",
    "name, age, working = my_tuple\n",
    "print(name)\n",
    "print(age)\n",
    "print(working)\n",
    "\n",
    "# (** if the  number of tuple element and unpacking varable is not equal than it will show an error)"
   ]
  },
  {
   "cell_type": "code",
   "execution_count": 44,
   "metadata": {},
   "outputs": [
    {
     "name": "stdout",
     "output_type": "stream",
     "text": [
      "1\n",
      "[2, 3, 4, 5, 1, 2, 3, 4, 5, 'apple']\n",
      "mango\n",
      "orange\n"
     ]
    }
   ],
   "source": [
    "# unpacking of large tuple \n",
    "my_tuple = (1,2,3,4,5,1,2,3,4,5, \"apple\", \"mango\", \"orange\")\n",
    "\n",
    "el1, *el2, el3, el4 = my_tuple\n",
    "print(el1)\n",
    "print(el2)\n",
    "print(el3)\n",
    "print(el4)"
   ]
  },
  {
   "cell_type": "code",
   "execution_count": null,
   "metadata": {},
   "outputs": [],
   "source": []
  }
 ],
 "metadata": {
  "kernelspec": {
   "display_name": "geogee",
   "language": "python",
   "name": "python3"
  },
  "language_info": {
   "codemirror_mode": {
    "name": "ipython",
    "version": 3
   },
   "file_extension": ".py",
   "mimetype": "text/x-python",
   "name": "python",
   "nbconvert_exporter": "python",
   "pygments_lexer": "ipython3",
   "version": "3.12.3"
  }
 },
 "nbformat": 4,
 "nbformat_minor": 2
}
