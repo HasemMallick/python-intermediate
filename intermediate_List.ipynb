{
 "cells": [
  {
   "cell_type": "markdown",
   "metadata": {},
   "source": [
    "## PythonL: List - Intermediate Level \n",
    "\n",
    "- Lists:\n",
    "    - Odered\n",
    "    - Mutaiable\n",
    "    - Allows Duplicate elements"
   ]
  },
  {
   "cell_type": "code",
   "execution_count": 2,
   "metadata": {},
   "outputs": [
    {
     "name": "stdout",
     "output_type": "stream",
     "text": [
      "['apple', 'mango', 'orange']\n"
     ]
    }
   ],
   "source": [
    "# Create a List\n",
    "my_list = [\"apple\", \"mango\", \"orange\"]\n",
    "print(my_list)"
   ]
  },
  {
   "cell_type": "code",
   "execution_count": 4,
   "metadata": {},
   "outputs": [
    {
     "name": "stdout",
     "output_type": "stream",
     "text": [
      "<class 'list'>\n"
     ]
    }
   ],
   "source": [
    "# Create a empty List\n",
    "my_list = []\n",
    "print(type(my_list))"
   ]
  },
  {
   "cell_type": "code",
   "execution_count": 5,
   "metadata": {},
   "outputs": [
    {
     "name": "stdout",
     "output_type": "stream",
     "text": [
      "<class 'list'>\n"
     ]
    }
   ],
   "source": [
    "# Create an empty List \n",
    "my_list = list()\n",
    "print(type(my_list))"
   ]
  },
  {
   "cell_type": "code",
   "execution_count": 7,
   "metadata": {},
   "outputs": [
    {
     "name": "stdout",
     "output_type": "stream",
     "text": [
      "['Mallick', 25, True]\n"
     ]
    }
   ],
   "source": [
    "# Lists allows different data types\n",
    "my_list = [\"Mallick\", 25, True]\n",
    "print(my_list)"
   ]
  },
  {
   "cell_type": "code",
   "execution_count": 8,
   "metadata": {},
   "outputs": [
    {
     "name": "stdout",
     "output_type": "stream",
     "text": [
      "['apple', 'mango', 'mango']\n"
     ]
    }
   ],
   "source": [
    "# List allows duplicate elements \n",
    "my_list = [\"apple\", \"mango\", \"mango\"]\n",
    "print(my_list)"
   ]
  },
  {
   "cell_type": "code",
   "execution_count": 10,
   "metadata": {},
   "outputs": [
    {
     "name": "stdout",
     "output_type": "stream",
     "text": [
      "3\n"
     ]
    }
   ],
   "source": [
    "# Accessing list elements\n",
    "my_list = [3,4,6,2,4,5]\n",
    "print(my_list[0])"
   ]
  },
  {
   "cell_type": "code",
   "execution_count": 94,
   "metadata": {},
   "outputs": [
    {
     "ename": "IndexError",
     "evalue": "list index out of range",
     "output_type": "error",
     "traceback": [
      "\u001b[1;31m---------------------------------------------------------------------------\u001b[0m",
      "\u001b[1;31mIndexError\u001b[0m                                Traceback (most recent call last)",
      "Cell \u001b[1;32mIn[94], line 3\u001b[0m\n\u001b[0;32m      1\u001b[0m \u001b[38;5;66;03m# accessed elemet is out of the range therfore it will through an Error\u001b[39;00m\n\u001b[0;32m      2\u001b[0m my_list \u001b[38;5;241m=\u001b[39m [\u001b[38;5;241m3\u001b[39m,\u001b[38;5;241m5\u001b[39m,\u001b[38;5;241m5\u001b[39m]\n\u001b[1;32m----> 3\u001b[0m \u001b[38;5;28mprint\u001b[39m(\u001b[43mmy_list\u001b[49m\u001b[43m[\u001b[49m\u001b[38;5;241;43m3\u001b[39;49m\u001b[43m]\u001b[49m)\n",
      "\u001b[1;31mIndexError\u001b[0m: list index out of range"
     ]
    }
   ],
   "source": [
    "# accessed elemet is out of the range therfore it will through an Error\n",
    "my_list = [3,5,5]\n",
    "print(my_list[3])"
   ]
  },
  {
   "cell_type": "code",
   "execution_count": 19,
   "metadata": {},
   "outputs": [
    {
     "name": "stdout",
     "output_type": "stream",
     "text": [
      "25\n"
     ]
    }
   ],
   "source": [
    "# Accessing element using Negative Index\n",
    "my_list = [\"apple\", \"orange\", 25]\n",
    "print(my_list[-1])"
   ]
  },
  {
   "cell_type": "code",
   "execution_count": 21,
   "metadata": {},
   "outputs": [
    {
     "name": "stdout",
     "output_type": "stream",
     "text": [
      "apple\n",
      "mango\n",
      "25\n",
      "560\n"
     ]
    }
   ],
   "source": [
    "# Iterate over your list using for loop\n",
    "my_list = [\"apple\", \"mango\", 25, 560]\n",
    "\n",
    "for el in my_list:\n",
    "    print(el)"
   ]
  },
  {
   "cell_type": "code",
   "execution_count": 26,
   "metadata": {},
   "outputs": [
    {
     "name": "stdout",
     "output_type": "stream",
     "text": [
      "False\n",
      "False\n"
     ]
    }
   ],
   "source": [
    "# find item in list\n",
    "my_list = [\"apple\", \"mango\", 25, 560]\n",
    "\n",
    "# if item avaliable \n",
    "if \"25\" in my_list:\n",
    "    print(True)\n",
    "else:\n",
    "    print(False)\n",
    "\n",
    "# item is not on the list\n",
    "if \"205\" in my_list:\n",
    "    print(True)\n",
    "else:\n",
    "    print(False)"
   ]
  },
  {
   "cell_type": "code",
   "execution_count": 27,
   "metadata": {},
   "outputs": [
    {
     "name": "stdout",
     "output_type": "stream",
     "text": [
      "4\n"
     ]
    }
   ],
   "source": [
    "# check lenght of the list\n",
    "my_list = [\"apple\", \"mango\", 25, 560]\n",
    "\n",
    "print(len(my_list))"
   ]
  },
  {
   "cell_type": "code",
   "execution_count": 29,
   "metadata": {},
   "outputs": [
    {
     "name": "stdout",
     "output_type": "stream",
     "text": [
      "['apple', 'mango', 25, 560, 'Mallick']\n"
     ]
    }
   ],
   "source": [
    "# append item in the list\n",
    "my_list = [\"apple\", \"mango\", 25, 560]\n",
    "my_list.append(\"Mallick\")\n",
    "print(my_list)"
   ]
  },
  {
   "cell_type": "code",
   "execution_count": 30,
   "metadata": {},
   "outputs": [
    {
     "name": "stdout",
     "output_type": "stream",
     "text": [
      "['apple', 'mango', 25, 560, ['apple', 'mango', 25, 560]]\n"
     ]
    }
   ],
   "source": [
    "# append items in the list (append arugument takes only one parameter)\n",
    "my_list = [\"apple\", \"mango\", 25, 560]\n",
    "\n",
    "my_list.append([\"apple\", \"mango\", 25, 560])\n",
    "print(my_list)\n"
   ]
  },
  {
   "cell_type": "code",
   "execution_count": 32,
   "metadata": {},
   "outputs": [
    {
     "name": "stdout",
     "output_type": "stream",
     "text": [
      "['banana', 'apple', 'mango', 25, 560]\n"
     ]
    }
   ],
   "source": [
    "# Insert an element uisng index number\n",
    "my_list = [\"apple\", \"mango\", 25, 560]\n",
    "\n",
    "my_list.insert(0, \"banana\")\n",
    "print(my_list)\n"
   ]
  },
  {
   "cell_type": "code",
   "execution_count": 36,
   "metadata": {},
   "outputs": [
    {
     "name": "stdout",
     "output_type": "stream",
     "text": [
      "['apple', 'mango', 25, 560, 'orange']\n",
      "orange\n",
      "['apple', 'mango', 25, 560]\n"
     ]
    }
   ],
   "source": [
    "# remove last elemets from the list\n",
    "my_list = [\"apple\", \"mango\", 25, 560, \"orange\"]\n",
    "print(my_list)\n",
    "\n",
    "rem = my_list.pop()\n",
    "print(rem)\n",
    "print(my_list)"
   ]
  },
  {
   "cell_type": "code",
   "execution_count": 40,
   "metadata": {},
   "outputs": [
    {
     "name": "stdout",
     "output_type": "stream",
     "text": [
      "['apple', 'mango', 25, 560, 'orange']\n",
      "['apple', 25, 560, 'orange']\n"
     ]
    }
   ],
   "source": [
    "# Remove a specific element\n",
    "my_list = [\"apple\", \"mango\", 25, 560, \"orange\"]\n",
    "print(my_list)\n",
    "\n",
    "rem = my_list.remove('mango')\n",
    "print(my_list)\n"
   ]
  },
  {
   "cell_type": "code",
   "execution_count": 41,
   "metadata": {},
   "outputs": [
    {
     "name": "stdout",
     "output_type": "stream",
     "text": [
      "['apple', 'mango', 25, 560, 'orange']\n",
      "[]\n"
     ]
    }
   ],
   "source": [
    "# remove all elemetns\n",
    "my_list = [\"apple\", \"mango\", 25, 560, \"orange\"]\n",
    "print(my_list)\n",
    "\n",
    "my_list.clear()\n",
    "print(my_list)"
   ]
  },
  {
   "cell_type": "code",
   "execution_count": 42,
   "metadata": {},
   "outputs": [
    {
     "name": "stdout",
     "output_type": "stream",
     "text": [
      "['apple', 'mango', 25, 560, 'orange']\n",
      "['orange', 560, 25, 'mango', 'apple']\n"
     ]
    }
   ],
   "source": [
    "# Reverse the list \n",
    "my_list = [\"apple\", \"mango\", 25, 560, \"orange\"]\n",
    "print(my_list)\n",
    "\n",
    "my_list.reverse()\n",
    "print(my_list)"
   ]
  },
  {
   "cell_type": "code",
   "execution_count": 45,
   "metadata": {},
   "outputs": [
    {
     "name": "stdout",
     "output_type": "stream",
     "text": [
      "[3, 4, 6, 7, 6, 9]\n",
      "[3, 4, 6, 6, 7, 9]\n"
     ]
    }
   ],
   "source": [
    "# sort a list  (** Sort method changes original list **)\n",
    "my_list = [3,4,6,7,6,9]\n",
    "print(my_list)\n",
    "\n",
    "my_list.sort()\n",
    "print(my_list)"
   ]
  },
  {
   "cell_type": "code",
   "execution_count": 46,
   "metadata": {},
   "outputs": [
    {
     "name": "stdout",
     "output_type": "stream",
     "text": [
      "[3, 6, 4, 6, 9]\n",
      "[9, 6, 6, 4, 3]\n"
     ]
    }
   ],
   "source": [
    "# desending order \n",
    "my_list = [3,6,4,6,9]\n",
    "print(my_list)\n",
    "\n",
    "my_list.sort(reverse=True)\n",
    "print(my_list)"
   ]
  },
  {
   "cell_type": "code",
   "execution_count": 58,
   "metadata": {},
   "outputs": [
    {
     "name": "stdout",
     "output_type": "stream",
     "text": [
      "[11, 3, 5, 7, 8, 9]\n",
      "[3, 5, 7, 8, 9, 11]\n"
     ]
    }
   ],
   "source": [
    "# sort list without chanign the original list\n",
    "my_list = [11,3,5,7,8,9]\n",
    "print(my_list)\n",
    "\n",
    "new_list = sorted(my_list)\n",
    "print(new_list)"
   ]
  },
  {
   "cell_type": "code",
   "execution_count": 59,
   "metadata": {},
   "outputs": [
    {
     "name": "stdout",
     "output_type": "stream",
     "text": [
      "[2, 2, 2, 2, 2, 2, 2, 2, 2, 2]\n"
     ]
    }
   ],
   "source": [
    "# List with same elements\n",
    "my_list = [2] * 10 # a list with 10 two's\n",
    "print(my_list)"
   ]
  },
  {
   "cell_type": "code",
   "execution_count": 62,
   "metadata": {},
   "outputs": [
    {
     "name": "stdout",
     "output_type": "stream",
     "text": [
      "[1, 4, 6, 7, 'apple', 'mango', 'orange']\n",
      "[1, 4, 6, 7, 'apple', 'mango', 'orange']\n"
     ]
    }
   ],
   "source": [
    "# concatiante two lists\n",
    "my_list1 = [1,4,6,7]\n",
    "my_list2 = [\"apple\", \"mango\", \"orange\"]\n",
    "\n",
    "# method one\n",
    "new_list = my_list1 + my_list2 \n",
    "print(new_list)\n",
    "\n",
    "# method 2\n",
    "my_list1.extend(my_list2)\n",
    "print(my_list1)"
   ]
  },
  {
   "cell_type": "code",
   "execution_count": 82,
   "metadata": {},
   "outputs": [
    {
     "name": "stdout",
     "output_type": "stream",
     "text": [
      "[1, 2, 3, 4, 5, 6, 7, 8, 9]\n",
      "[1, 2, 3]\n",
      "[1, 2, 3]\n",
      "[6, 7, 8, 9]\n",
      "[6, 7, 8, 9]\n",
      "[3, 4, 5, 6]\n",
      "[1, 2, 3, 4, 5, 6, 7, 8, 9]\n",
      "[1, 3, 5, 7, 9]\n",
      "[1, 4, 7]\n",
      "[9, 8, 7, 6, 5, 4, 3, 2, 1]\n",
      "[9, 7, 5, 3, 1]\n"
     ]
    }
   ],
   "source": [
    "# list slicing\n",
    "my_list = [1,2,3,4,5,6,7,8,9]\n",
    "print(my_list)\n",
    "\n",
    "# first element to 3rd element\n",
    "# method one\n",
    "print(my_list[0:3])\n",
    "\n",
    "# method 2\n",
    "print(my_list[:3])\n",
    "\n",
    "# 5th element to last element\n",
    "# metod one\n",
    "print(my_list[5:len(my_list)])\n",
    "\n",
    "# method 2\n",
    "print(my_list[5:])\n",
    "\n",
    "# middle part of the list \n",
    "print(my_list[2:6])\n",
    "\n",
    "# complete list\n",
    "print(my_list[:])\n",
    "\n",
    "# Alternative element of a list\n",
    "print(my_list[::2])\n",
    "\n",
    "# every 3rd element of the list\n",
    "print(my_list[::3])\n",
    "\n",
    "# reverse a list\n",
    "print(my_list[::-1])\n",
    "\n",
    "# reverse a list with alternative element\n",
    "print(my_list[::-2])"
   ]
  },
  {
   "cell_type": "code",
   "execution_count": 93,
   "metadata": {},
   "outputs": [
    {
     "name": "stdout",
     "output_type": "stream",
     "text": [
      "['apple', 'mango']\n",
      "['apple', 'mango']\n",
      "['apple', 'mango', 'orange orange']\n",
      "['apple', 'mango']\n",
      "['apple', 'mango']\n",
      "['apple', 'mango', 'orange orange']\n",
      "[1, 2, 3, 4, 5, 6]\n",
      "[1, 2, 3, 4, 5, 6, 'some']\n",
      "[1, 2, 3, 4, 5, 6]\n"
     ]
    }
   ],
   "source": [
    "# copy a list \n",
    "# method one\n",
    "my_list_org = [\"apple\", \"mango\"]\n",
    "print(my_list_org)\n",
    "\n",
    "copy_list = list(my_list_org)\n",
    "copy_list.append(\"orange orange\")\n",
    "\n",
    "print(my_list_org)\n",
    "print(copy_list)\n",
    "\n",
    "# method 2\n",
    "my_list_org = [\"apple\", \"mango\"]\n",
    "print(my_list_org)\n",
    "\n",
    "copy_list = my_list_org[:]\n",
    "copy_list.append(\"orange orange\")\n",
    "\n",
    "print(my_list_org)\n",
    "print(copy_list)\n",
    "\n",
    "# advanced technique (** List Comperihension**)\n",
    "a = [1,2,3,4,5,6]\n",
    "print(a)\n",
    "b = [el for el in a]\n",
    "\n",
    "a.append(\"some\")\n",
    "print(a)\n",
    "\n",
    "print(b)"
   ]
  },
  {
   "cell_type": "code",
   "execution_count": null,
   "metadata": {},
   "outputs": [],
   "source": []
  }
 ],
 "metadata": {
  "kernelspec": {
   "display_name": "geogee",
   "language": "python",
   "name": "python3"
  },
  "language_info": {
   "codemirror_mode": {
    "name": "ipython",
    "version": 3
   },
   "file_extension": ".py",
   "mimetype": "text/x-python",
   "name": "python",
   "nbconvert_exporter": "python",
   "pygments_lexer": "ipython3",
   "version": "3.12.3"
  }
 },
 "nbformat": 4,
 "nbformat_minor": 2
}
