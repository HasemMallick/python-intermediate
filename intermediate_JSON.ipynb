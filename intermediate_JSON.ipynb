{
 "cells": [
  {
   "cell_type": "markdown",
   "metadata": {},
   "source": [
    "### Python: JSON - intermediate level"
   ]
  },
  {
   "cell_type": "code",
   "execution_count": 21,
   "metadata": {},
   "outputs": [],
   "source": [
    "import json"
   ]
  },
  {
   "cell_type": "code",
   "execution_count": 22,
   "metadata": {},
   "outputs": [
    {
     "name": "stdout",
     "output_type": "stream",
     "text": [
      "{'status': 200, 'data': {'date': 'Jul 23, 2024', 'horoscope_data': \"Once your brain gets hooked on something, Capricorn, you're likely to take it to the extreme. Be careful of overworking yourself in a certain issue that requires a more rational, temperate attitude. You may get into trouble if you insist on going off the deep end. Don't tackle issues you aren't ready to handle. Take things slowly and maintain a moderate, conservative viewpoint. If you go too far, back off and take a break.\"}, 'success': True}\n"
     ]
    }
   ],
   "source": [
    "# dict\n",
    "data = {\"status\":200,\"data\":{\"date\":\"Jul 23, 2024\",\"horoscope_data\":\"Once your brain gets hooked on something, Capricorn, you're likely to take it to the extreme. Be careful of overworking yourself in a certain issue that requires a more rational, temperate attitude. You may get into trouble if you insist on going off the deep end. Don't tackle issues you aren't ready to handle. Take things slowly and maintain a moderate, conservative viewpoint. If you go too far, back off and take a break.\"},\"success\":True}\n",
    "print(data) # above data is a dict (python boolean value is the captalize but in the json format boolean blue is in the lowercase)"
   ]
  },
  {
   "cell_type": "code",
   "execution_count": 23,
   "metadata": {},
   "outputs": [
    {
     "name": "stdout",
     "output_type": "stream",
     "text": [
      "{\"status\": 200, \"data\": {\"date\": \"Jul 23, 2024\", \"horoscope_data\": \"Once your brain gets hooked on something, Capricorn, you're likely to take it to the extreme. Be careful of overworking yourself in a certain issue that requires a more rational, temperate attitude. You may get into trouble if you insist on going off the deep end. Don't tackle issues you aren't ready to handle. Take things slowly and maintain a moderate, conservative viewpoint. If you go too far, back off and take a break.\"}, \"success\": true}\n",
      "{\n",
      "    \"status\": 200,\n",
      "    \"data\": {\n",
      "        \"date\": \"Jul 23, 2024\",\n",
      "        \"horoscope_data\": \"Once your brain gets hooked on something, Capricorn, you're likely to take it to the extreme. Be careful of overworking yourself in a certain issue that requires a more rational, temperate attitude. You may get into trouble if you insist on going off the deep end. Don't tackle issues you aren't ready to handle. Take things slowly and maintain a moderate, conservative viewpoint. If you go too far, back off and take a break.\"\n",
      "    },\n",
      "    \"success\": true\n",
      "}\n"
     ]
    }
   ],
   "source": [
    "# dict to JSON string \n",
    "dict_to_json = json.dumps(data)\n",
    "print(dict_to_json) # converted the data (check the boolean value)\n",
    "\n",
    "# set indent in the json file for better vuz\n",
    "dict_to_json = json.dumps(data, indent=4)\n",
    "print(dict_to_json)"
   ]
  },
  {
   "cell_type": "code",
   "execution_count": 24,
   "metadata": {},
   "outputs": [
    {
     "name": "stdout",
     "output_type": "stream",
     "text": [
      "{\n",
      "    \"data\": {\n",
      "        \"date\": \"Jul 23, 2024\",\n",
      "        \"horoscope_data\": \"Once your brain gets hooked on something, Capricorn, you're likely to take it to the extreme. Be careful of overworking yourself in a certain issue that requires a more rational, temperate attitude. You may get into trouble if you insist on going off the deep end. Don't tackle issues you aren't ready to handle. Take things slowly and maintain a moderate, conservative viewpoint. If you go too far, back off and take a break.\"\n",
      "    },\n",
      "    \"status\": 200,\n",
      "    \"success\": true\n",
      "}\n"
     ]
    }
   ],
   "source": [
    "# sort the json keys \n",
    "dict_to_json = json.dumps(data, indent=4, sort_keys=True)\n",
    "print(dict_to_json)"
   ]
  },
  {
   "cell_type": "code",
   "execution_count": 25,
   "metadata": {},
   "outputs": [],
   "source": [
    "# write the json file \n",
    "with open('sample_data.json', 'w') as file:\n",
    "    json.dump(dict_to_json, file, indent=4)"
   ]
  },
  {
   "cell_type": "code",
   "execution_count": 34,
   "metadata": {},
   "outputs": [
    {
     "name": "stdout",
     "output_type": "stream",
     "text": [
      "{'data': {'date': 'Jul 23, 2024', 'horoscope_data': \"Once your brain gets hooked on something, Capricorn, you're likely to take it to the extreme. Be careful of overworking yourself in a certain issue that requires a more rational, temperate attitude. You may get into trouble if you insist on going off the deep end. Don't tackle issues you aren't ready to handle. Take things slowly and maintain a moderate, conservative viewpoint. If you go too far, back off and take a break.\"}, 'status': 200, 'success': True}\n"
     ]
    }
   ],
   "source": [
    "# json to python obj\n",
    "with open(\"data.json\", 'r') as file:\n",
    "    new_data = json.load(file)\n",
    "    print(new_data)"
   ]
  }
 ],
 "metadata": {
  "kernelspec": {
   "display_name": "geogee",
   "language": "python",
   "name": "python3"
  },
  "language_info": {
   "codemirror_mode": {
    "name": "ipython",
    "version": 3
   },
   "file_extension": ".py",
   "mimetype": "text/x-python",
   "name": "python",
   "nbconvert_exporter": "python",
   "pygments_lexer": "ipython3",
   "version": "3.12.3"
  }
 },
 "nbformat": 4,
 "nbformat_minor": 2
}
